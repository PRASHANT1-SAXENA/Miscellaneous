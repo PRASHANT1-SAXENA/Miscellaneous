{
 "cells": [
  {
   "cell_type": "code",
   "execution_count": 1,
   "id": "a40c498b",
   "metadata": {},
   "outputs": [],
   "source": [
    "import glob\n",
    "import pandas as pd"
   ]
  },
  {
   "cell_type": "code",
   "execution_count": 13,
   "id": "87a6f509",
   "metadata": {},
   "outputs": [],
   "source": [
    "m_csv=glob.glob(r'C:\\Users\\chemi\\Desktop\\save_csv'+'\\magi*.csv')"
   ]
  },
  {
   "cell_type": "code",
   "execution_count": 14,
   "id": "7ee4fc78",
   "metadata": {},
   "outputs": [
    {
     "data": {
      "text/plain": [
       "['C:\\\\Users\\\\chemi\\\\Desktop\\\\save_csv\\\\magic_comm_shop&showroom_Ahmedabad.csv',\n",
       " 'C:\\\\Users\\\\chemi\\\\Desktop\\\\save_csv\\\\magic_comm_shop&showroom_Bangalore.csv',\n",
       " 'C:\\\\Users\\\\chemi\\\\Desktop\\\\save_csv\\\\magic_comm_shop&showroom_Chennai.csv',\n",
       " 'C:\\\\Users\\\\chemi\\\\Desktop\\\\save_csv\\\\magic_comm_shop&showroom_Gurgaon.csv',\n",
       " 'C:\\\\Users\\\\chemi\\\\Desktop\\\\save_csv\\\\magic_comm_shop&showroom_Hyderabad.csv',\n",
       " 'C:\\\\Users\\\\chemi\\\\Desktop\\\\save_csv\\\\magic_comm_shop&showroom_Indore.csv',\n",
       " 'C:\\\\Users\\\\chemi\\\\Desktop\\\\save_csv\\\\magic_comm_shop&showroom_Jaipur.csv',\n",
       " 'C:\\\\Users\\\\chemi\\\\Desktop\\\\save_csv\\\\magic_comm_shop&showroom_Kozhikode.csv',\n",
       " 'C:\\\\Users\\\\chemi\\\\Desktop\\\\save_csv\\\\magic_comm_shop&showroom_Lucknow.csv',\n",
       " 'C:\\\\Users\\\\chemi\\\\Desktop\\\\save_csv\\\\magic_comm_shop&showroom_Mysore.csv',\n",
       " 'C:\\\\Users\\\\chemi\\\\Desktop\\\\save_csv\\\\magic_comm_shop&showroom_Noida.csv',\n",
       " 'C:\\\\Users\\\\chemi\\\\Desktop\\\\save_csv\\\\magic_comm_shop&showroom_Pune.csv',\n",
       " 'C:\\\\Users\\\\chemi\\\\Desktop\\\\save_csv\\\\magic_comm_shop&showroom_Rajkot.csv',\n",
       " 'C:\\\\Users\\\\chemi\\\\Desktop\\\\save_csv\\\\magic_comm_shop&showroom_Surat.csv']"
      ]
     },
     "execution_count": 14,
     "metadata": {},
     "output_type": "execute_result"
    }
   ],
   "source": [
    "m_csv"
   ]
  },
  {
   "cell_type": "code",
   "execution_count": 15,
   "id": "98ce39f3",
   "metadata": {},
   "outputs": [],
   "source": [
    "df_list = (pd.read_csv(file) for file in m_csv)\n",
    "df1  = pd.concat(df_list, ignore_index=True)"
   ]
  },
  {
   "cell_type": "code",
   "execution_count": 16,
   "id": "f2c66d55",
   "metadata": {},
   "outputs": [],
   "source": [
    "df1.to_csv(r'C:\\Users\\chemi\\Desktop\\save_csv\\magic_commercial_14_cities.csv')"
   ]
  },
  {
   "cell_type": "code",
   "execution_count": null,
   "id": "697bc945",
   "metadata": {},
   "outputs": [],
   "source": []
  }
 ],
 "metadata": {
  "kernelspec": {
   "display_name": "Python 3 (ipykernel)",
   "language": "python",
   "name": "python3"
  },
  "language_info": {
   "codemirror_mode": {
    "name": "ipython",
    "version": 3
   },
   "file_extension": ".py",
   "mimetype": "text/x-python",
   "name": "python",
   "nbconvert_exporter": "python",
   "pygments_lexer": "ipython3",
   "version": "3.9.13"
  }
 },
 "nbformat": 4,
 "nbformat_minor": 5
}

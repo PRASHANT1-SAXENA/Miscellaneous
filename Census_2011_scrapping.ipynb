{
 "cells": [
  {
   "cell_type": "code",
   "execution_count": 40,
   "id": "f7f57a1a",
   "metadata": {},
   "outputs": [],
   "source": [
    "import pandas as pd\n",
    "import numpy as np\n",
    "import requests \n",
    "from datetime import date\n",
    "from bs4 import BeautifulSoup\n",
    "import csv"
   ]
  },
  {
   "cell_type": "code",
   "execution_count": 41,
   "id": "caf3fb1b",
   "metadata": {},
   "outputs": [],
   "source": [
    "url=\"https://www.census2011.co.in/city.php\"\n",
    "r=requests.get(url).text\n",
    "    "
   ]
  },
  {
   "cell_type": "code",
   "execution_count": null,
   "id": "e7d336f2",
   "metadata": {},
   "outputs": [],
   "source": []
  },
  {
   "cell_type": "code",
   "execution_count": 44,
   "id": "9adbffc6",
   "metadata": {},
   "outputs": [
    {
     "name": "stdout",
     "output_type": "stream",
     "text": [
      "https://www.census2011.co.in/census/city/365-mumbai.html\n"
     ]
    },
    {
     "ename": "IndexError",
     "evalue": "list index out of range",
     "output_type": "error",
     "traceback": [
      "\u001b[1;31m---------------------------------------------------------------------------\u001b[0m",
      "\u001b[1;31mIndexError\u001b[0m                                Traceback (most recent call last)",
      "Cell \u001b[1;32mIn [44], line 14\u001b[0m\n\u001b[0;32m     12\u001b[0m soup\u001b[38;5;241m=\u001b[39mBeautifulSoup(req,\u001b[38;5;124m\"\u001b[39m\u001b[38;5;124mlxml\u001b[39m\u001b[38;5;124m\"\u001b[39m)\n\u001b[0;32m     13\u001b[0m title_1\u001b[38;5;241m=\u001b[39msoup\u001b[38;5;241m.\u001b[39mfind_all(\u001b[38;5;124m\"\u001b[39m\u001b[38;5;124mtbody\u001b[39m\u001b[38;5;124m\"\u001b[39m)\n\u001b[1;32m---> 14\u001b[0m tb_body\u001b[38;5;241m=\u001b[39m\u001b[43mtitle_1\u001b[49m\u001b[43m[\u001b[49m\u001b[38;5;241;43m5\u001b[39;49m\u001b[43m]\u001b[49m\u001b[38;5;241m.\u001b[39mfind_all(\u001b[38;5;124m\"\u001b[39m\u001b[38;5;124mtr\u001b[39m\u001b[38;5;124m\"\u001b[39m)\n\u001b[0;32m     15\u001b[0m \u001b[38;5;28mprint\u001b[39m(a)\n\u001b[0;32m     16\u001b[0m a\u001b[38;5;241m=\u001b[39ma\u001b[38;5;241m+\u001b[39m\u001b[38;5;241m1\u001b[39m\n",
      "\u001b[1;31mIndexError\u001b[0m: list index out of range"
     ]
    }
   ],
   "source": [
    "census={\"city\":[],\"state\":[],\"Mumbai Metropolitan\":[],\"City Population\":[],\"City_Outer_Areas\":[]}\n",
    "url=\"https://www.census2011.co.in/city.php\"\n",
    "r=requests.get(url).text\n",
    "soup=BeautifulSoup(r,\"lxml\")\n",
    "title=soup.find_all(\"td\",class_=\"alignleft\")\n",
    "a=1\n",
    "for city_i in title:\n",
    "    link=city_i.a.get(\"href\")\n",
    "    url_1=\"https://www.census2011.co.in\"+link\n",
    "    print(url_1)\n",
    "    req=requests.get(url_1).text\n",
    "    soup=BeautifulSoup(req,\"lxml\")\n",
    "    title_1=soup.find_all(\"tbody\")\n",
    "    tb_body=title_1[5].find_all(\"tr\")\n",
    "    print(a)\n",
    "    a=a+1\n",
    "    for value_i in tb_body:\n",
    "        row_value=value_i.find_all(\"td\")\n",
    "        census[\"city\"].append(city_i.text)\n",
    "        census[\"state\"].append(city_i.next_sibling.next_sibling.text)\n",
    "        census[\"Mumbai Metropolitan\"].append(row_value[0].text)\n",
    "        census[\"City Population\"].append(row_value[1].text)\n",
    "        census[\"City_Outer_Areas\"].append(row_value[2].text)\n",
    "        \n",
    "    \n"
   ]
  },
  {
   "cell_type": "code",
   "execution_count": 27,
   "id": "16902c38",
   "metadata": {},
   "outputs": [
    {
     "data": {
      "text/html": [
       "<div>\n",
       "<style scoped>\n",
       "    .dataframe tbody tr th:only-of-type {\n",
       "        vertical-align: middle;\n",
       "    }\n",
       "\n",
       "    .dataframe tbody tr th {\n",
       "        vertical-align: top;\n",
       "    }\n",
       "\n",
       "    .dataframe thead th {\n",
       "        text-align: right;\n",
       "    }\n",
       "</style>\n",
       "<table border=\"1\" class=\"dataframe\">\n",
       "  <thead>\n",
       "    <tr style=\"text-align: right;\">\n",
       "      <th></th>\n",
       "      <th>city</th>\n",
       "      <th>state</th>\n",
       "      <th>Mumbai Metropolitan</th>\n",
       "      <th>City Population</th>\n",
       "      <th>City_Outer_Areas</th>\n",
       "    </tr>\n",
       "  </thead>\n",
       "  <tbody>\n",
       "    <tr>\n",
       "      <th>0</th>\n",
       "      <td>Mumbai</td>\n",
       "      <td>Maharashtra</td>\n",
       "      <td>2011</td>\n",
       "      <td>12,442,373</td>\n",
       "      <td>12,442,373</td>\n",
       "    </tr>\n",
       "    <tr>\n",
       "      <th>1</th>\n",
       "      <td>Mumbai</td>\n",
       "      <td>Maharashtra</td>\n",
       "      <td>2021</td>\n",
       "      <td>16,175,000</td>\n",
       "      <td>16,797,000</td>\n",
       "    </tr>\n",
       "    <tr>\n",
       "      <th>2</th>\n",
       "      <td>Mumbai</td>\n",
       "      <td>Maharashtra</td>\n",
       "      <td>2022</td>\n",
       "      <td>16,660,000</td>\n",
       "      <td>17,384,000</td>\n",
       "    </tr>\n",
       "    <tr>\n",
       "      <th>3</th>\n",
       "      <td>Mumbai</td>\n",
       "      <td>Maharashtra</td>\n",
       "      <td>2023</td>\n",
       "      <td>17,159,000</td>\n",
       "      <td>17,992,000</td>\n",
       "    </tr>\n",
       "    <tr>\n",
       "      <th>4</th>\n",
       "      <td>Mumbai</td>\n",
       "      <td>Maharashtra</td>\n",
       "      <td>2024</td>\n",
       "      <td>17,673,000</td>\n",
       "      <td>18,621,000</td>\n",
       "    </tr>\n",
       "    <tr>\n",
       "      <th>...</th>\n",
       "      <td>...</td>\n",
       "      <td>...</td>\n",
       "      <td>...</td>\n",
       "      <td>...</td>\n",
       "      <td>...</td>\n",
       "    </tr>\n",
       "    <tr>\n",
       "      <th>5971</th>\n",
       "      <td>Kapurthala</td>\n",
       "      <td>Punjab</td>\n",
       "      <td>2027</td>\n",
       "      <td>150,000</td>\n",
       "      <td>160,000</td>\n",
       "    </tr>\n",
       "    <tr>\n",
       "      <th>5972</th>\n",
       "      <td>Kapurthala</td>\n",
       "      <td>Punjab</td>\n",
       "      <td>2028</td>\n",
       "      <td>154,000</td>\n",
       "      <td>165,000</td>\n",
       "    </tr>\n",
       "    <tr>\n",
       "      <th>5973</th>\n",
       "      <td>Kapurthala</td>\n",
       "      <td>Punjab</td>\n",
       "      <td>2029</td>\n",
       "      <td>158,000</td>\n",
       "      <td>170,000</td>\n",
       "    </tr>\n",
       "    <tr>\n",
       "      <th>5974</th>\n",
       "      <td>Kapurthala</td>\n",
       "      <td>Punjab</td>\n",
       "      <td>2030</td>\n",
       "      <td>162,000</td>\n",
       "      <td>175,000</td>\n",
       "    </tr>\n",
       "    <tr>\n",
       "      <th>5975</th>\n",
       "      <td>Kapurthala</td>\n",
       "      <td>Punjab</td>\n",
       "      <td>2031</td>\n",
       "      <td>166,000</td>\n",
       "      <td>181,000</td>\n",
       "    </tr>\n",
       "  </tbody>\n",
       "</table>\n",
       "<p>5976 rows × 5 columns</p>\n",
       "</div>"
      ],
      "text/plain": [
       "            city        state Mumbai Metropolitan City Population  \\\n",
       "0         Mumbai  Maharashtra                2011      12,442,373   \n",
       "1         Mumbai  Maharashtra                2021      16,175,000   \n",
       "2         Mumbai  Maharashtra                2022      16,660,000   \n",
       "3         Mumbai  Maharashtra                2023      17,159,000   \n",
       "4         Mumbai  Maharashtra                2024      17,673,000   \n",
       "...          ...          ...                 ...             ...   \n",
       "5971  Kapurthala       Punjab                2027         150,000   \n",
       "5972  Kapurthala       Punjab                2028         154,000   \n",
       "5973  Kapurthala       Punjab                2029         158,000   \n",
       "5974  Kapurthala       Punjab                2030         162,000   \n",
       "5975  Kapurthala       Punjab                2031         166,000   \n",
       "\n",
       "     City_Outer_Areas  \n",
       "0          12,442,373  \n",
       "1          16,797,000  \n",
       "2          17,384,000  \n",
       "3          17,992,000  \n",
       "4          18,621,000  \n",
       "...               ...  \n",
       "5971          160,000  \n",
       "5972          165,000  \n",
       "5973          170,000  \n",
       "5974          175,000  \n",
       "5975          181,000  \n",
       "\n",
       "[5976 rows x 5 columns]"
      ]
     },
     "execution_count": 27,
     "metadata": {},
     "output_type": "execute_result"
    }
   ],
   "source": [
    "data=pd.DataFrame(census)\n",
    "data"
   ]
  },
  {
   "cell_type": "code",
   "execution_count": 28,
   "id": "29497a3a",
   "metadata": {},
   "outputs": [],
   "source": [
    "data.to_csv(r\"C:\\Users\\chemi\\Desktop\\save_csv\\census_2011_1.csv\",index=False )"
   ]
  },
  {
   "cell_type": "code",
   "execution_count": null,
   "id": "8428d57c",
   "metadata": {},
   "outputs": [],
   "source": []
  },
  {
   "cell_type": "code",
   "execution_count": null,
   "id": "8129da1e",
   "metadata": {},
   "outputs": [],
   "source": []
  },
  {
   "cell_type": "code",
   "execution_count": null,
   "id": "302dd116",
   "metadata": {},
   "outputs": [],
   "source": []
  },
  {
   "cell_type": "code",
   "execution_count": null,
   "id": "1474de76",
   "metadata": {},
   "outputs": [],
   "source": []
  },
  {
   "cell_type": "code",
   "execution_count": null,
   "id": "1a538790",
   "metadata": {},
   "outputs": [],
   "source": []
  },
  {
   "cell_type": "code",
   "execution_count": 32,
   "id": "f66a0163",
   "metadata": {},
   "outputs": [
    {
     "name": "stdout",
     "output_type": "stream",
     "text": [
      "1\n",
      "[<td>\n",
      "Ambernath, Badalapur, Greater Mumbai, Kalyan and Dombivali, Mira and Bhayander, Navi Mumbai, Thane, and Ulhasnagar </td>]\n"
     ]
    },
    {
     "ename": "IndexError",
     "evalue": "list index out of range",
     "output_type": "error",
     "traceback": [
      "\u001b[1;31m---------------------------------------------------------------------------\u001b[0m",
      "\u001b[1;31mIndexError\u001b[0m                                Traceback (most recent call last)",
      "Cell \u001b[1;32mIn [32], line 28\u001b[0m\n\u001b[0;32m     26\u001b[0m state\u001b[38;5;241m=\u001b[39mcity_i\u001b[38;5;241m.\u001b[39mnext_sibling\u001b[38;5;241m.\u001b[39mnext_sibling\u001b[38;5;241m.\u001b[39mtext\n\u001b[0;32m     27\u001b[0m Mumbai_Metropolitan \u001b[38;5;241m=\u001b[39mrow_value[\u001b[38;5;241m0\u001b[39m]\u001b[38;5;241m.\u001b[39mtext\n\u001b[1;32m---> 28\u001b[0m City_Population\u001b[38;5;241m=\u001b[39m\u001b[43mrow_value\u001b[49m\u001b[43m[\u001b[49m\u001b[38;5;241;43m1\u001b[39;49m\u001b[43m]\u001b[49m\u001b[38;5;241m.\u001b[39mtext\n\u001b[0;32m     29\u001b[0m City_Outer_Areas\u001b[38;5;241m=\u001b[39mrow_value[\u001b[38;5;241m2\u001b[39m]\u001b[38;5;241m.\u001b[39mtext\n",
      "\u001b[1;31mIndexError\u001b[0m: list index out of range"
     ]
    }
   ],
   "source": [
    "csv_nm = r'C:\\Users\\chemi\\Desktop\\save_csv\\census_2011.csv'\n",
    "fields = [\"City\",\"state\",\"Mumbai_Metropolitan\",\"City_Population\",\"City_Outer_Areas\"]\n",
    "\n",
    "with open(csv_nm, 'w', encoding=\"utf-16\", newline='') as csvfile:\n",
    "    writer= csv.DictWriter(csvfile, fieldnames=fields, delimiter =\";\")\n",
    "    writer.writeheader()\n",
    "    \n",
    "url=\"https://www.census2011.co.in/city.php\"\n",
    "r=requests.get(url).text\n",
    "soup=BeautifulSoup(r,\"lxml\")\n",
    "title=soup.find_all(\"td\",class_=\"alignleft\")\n",
    "a=1\n",
    "for city_i in title:\n",
    "    link=city_i.a.get(\"href\")\n",
    "    url_1=\"https://www.census2011.co.in\"+link\n",
    "    req=requests.get(url_1).text\n",
    "    soup=BeautifulSoup(req,\"lxml\")\n",
    "    title_1=soup.find_all(\"tbody\")\n",
    "    tb_body=title_1[-1].find_all(\"tr\")\n",
    "    print(a)\n",
    "    a=a+1\n",
    "    for value_i in tb_body:\n",
    "        row_value=value_i.find_all(\"td\")\n",
    "        print(row_value)\n",
    "        city=city_i.text\n",
    "        state=city_i.next_sibling.next_sibling.text\n",
    "        Mumbai_Metropolitan =row_value[0].text\n",
    "        City_Population=row_value[1].text\n",
    "        City_Outer_Areas=row_value[2].text"
   ]
  },
  {
   "cell_type": "code",
   "execution_count": null,
   "id": "c724bb99",
   "metadata": {},
   "outputs": [],
   "source": []
  },
  {
   "cell_type": "code",
   "execution_count": 122,
   "id": "094d627e",
   "metadata": {},
   "outputs": [
    {
     "name": "stdout",
     "output_type": "stream",
     "text": [
      "{'City': 'Mumbai', 'state': 'Maharashtra'}\n"
     ]
    },
    {
     "ename": "ValueError",
     "evalue": "I/O operation on closed file.",
     "output_type": "error",
     "traceback": [
      "\u001b[1;31m---------------------------------------------------------------------------\u001b[0m",
      "\u001b[1;31mValueError\u001b[0m                                Traceback (most recent call last)",
      "Cell \u001b[1;32mIn [122], line 7\u001b[0m\n\u001b[0;32m      5\u001b[0m     row\u001b[38;5;241m=\u001b[39m{\u001b[38;5;124m\"\u001b[39m\u001b[38;5;124mCity\u001b[39m\u001b[38;5;124m\"\u001b[39m:a,\u001b[38;5;124m\"\u001b[39m\u001b[38;5;124mstate\u001b[39m\u001b[38;5;124m\"\u001b[39m:b}\n\u001b[0;32m      6\u001b[0m     \u001b[38;5;28mprint\u001b[39m(row)\n\u001b[1;32m----> 7\u001b[0m     \u001b[43mwriter\u001b[49m\u001b[38;5;241;43m.\u001b[39;49m\u001b[43mwriterow\u001b[49m\u001b[43m(\u001b[49m\u001b[43mrow\u001b[49m\u001b[43m)\u001b[49m\n\u001b[0;32m      8\u001b[0m     \u001b[38;5;66;03m#data[\"city\"]==i.next_sibling.next_sibling\u001b[39;00m\n\u001b[0;32m      9\u001b[0m     \u001b[38;5;66;03m#print(i.next_sibling.next_sibling)\u001b[39;00m\n\u001b[0;32m     10\u001b[0m writer\u001b[38;5;241m.\u001b[39mclose()\n",
      "File \u001b[1;32mC:\\Program Files\\Python39\\lib\\csv.py:154\u001b[0m, in \u001b[0;36mDictWriter.writerow\u001b[1;34m(self, rowdict)\u001b[0m\n\u001b[0;32m    153\u001b[0m \u001b[38;5;28;01mdef\u001b[39;00m \u001b[38;5;21mwriterow\u001b[39m(\u001b[38;5;28mself\u001b[39m, rowdict):\n\u001b[1;32m--> 154\u001b[0m     \u001b[38;5;28;01mreturn\u001b[39;00m \u001b[38;5;28;43mself\u001b[39;49m\u001b[38;5;241;43m.\u001b[39;49m\u001b[43mwriter\u001b[49m\u001b[38;5;241;43m.\u001b[39;49m\u001b[43mwriterow\u001b[49m\u001b[43m(\u001b[49m\u001b[38;5;28;43mself\u001b[39;49m\u001b[38;5;241;43m.\u001b[39;49m\u001b[43m_dict_to_list\u001b[49m\u001b[43m(\u001b[49m\u001b[43mrowdict\u001b[49m\u001b[43m)\u001b[49m\u001b[43m)\u001b[49m\n",
      "\u001b[1;31mValueError\u001b[0m: I/O operation on closed file."
     ]
    }
   ],
   "source": [
    "\n",
    "title=soup.find_all(\"td\",class_=\"alignleft\")\n",
    "for i in title:\n",
    "    a=i.text\n",
    "    b=i.next_sibling.next_sibling.text\n",
    "    row={\"City\":a,\"state\":b}\n",
    "    print(row)\n",
    "    writer.writerow(row)\n",
    "    #data[\"city\"]==i.next_sibling.next_sibling\n",
    "    #print(i.next_sibling.next_sibling)"
   ]
  },
  {
   "cell_type": "code",
   "execution_count": null,
   "id": "7af45424",
   "metadata": {},
   "outputs": [],
   "source": []
  },
  {
   "cell_type": "code",
   "execution_count": null,
   "id": "f12f45be",
   "metadata": {},
   "outputs": [],
   "source": [
    "\n",
    "    "
   ]
  }
 ],
 "metadata": {
  "kernelspec": {
   "display_name": "Python 3 (ipykernel)",
   "language": "python",
   "name": "python3"
  },
  "language_info": {
   "codemirror_mode": {
    "name": "ipython",
    "version": 3
   },
   "file_extension": ".py",
   "mimetype": "text/x-python",
   "name": "python",
   "nbconvert_exporter": "python",
   "pygments_lexer": "ipython3",
   "version": "3.9.13"
  }
 },
 "nbformat": 4,
 "nbformat_minor": 5
}
